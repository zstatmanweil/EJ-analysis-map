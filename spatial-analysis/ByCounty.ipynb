{
 "cells": [
  {
   "cell_type": "markdown",
   "metadata": {},
   "source": [
    "*This notebook assigns county demographic data to the New Jersey water systems based on the primary county in which the water system is located.*"
   ]
  },
  {
   "cell_type": "code",
   "execution_count": 215,
   "metadata": {},
   "outputs": [],
   "source": [
    "import requests\n",
    "import pandas as pd\n",
    "import geopandas as gpd\n",
    "import io\n",
    "import numpy as np"
   ]
  },
  {
   "cell_type": "markdown",
   "metadata": {},
   "source": [
    "## Explore and clean file containing water system characteristics and violation data\n",
    "See SDWISData.ipynb for more information on this dataset."
   ]
  },
  {
   "cell_type": "code",
   "execution_count": 216,
   "metadata": {},
   "outputs": [],
   "source": [
    "sdwa_vios = pd.read_csv('..\\Data\\Created\\SDWIS\\sdwa_vios_complete.csv')\n",
    "sdwa_vios = sdwa_vios.rename(columns={'PWSID': \"PWID\"})"
   ]
  },
  {
   "cell_type": "code",
   "execution_count": 217,
   "metadata": {},
   "outputs": [],
   "source": [
    "# Convert violation fields to integer type\n",
    "sdwa_vios['health_violations'] = sdwa_vios['health_violations'].astype('int64')\n",
    "sdwa_vios['all_violations'] = sdwa_vios['all_violations'].astype('int64')"
   ]
  },
  {
   "cell_type": "code",
   "execution_count": 218,
   "metadata": {},
   "outputs": [],
   "source": [
    "# If there are multiple counties, select the first one\n",
    "def select_first_word(county_list):\n",
    "    return county_list.split(',')[0]\n",
    "\n",
    "sdwa_vios['county'] = sdwa_vios['COUNTIES_SERVED'].apply(select_first_word)"
   ]
  },
  {
   "cell_type": "code",
   "execution_count": 219,
   "metadata": {},
   "outputs": [
    {
     "data": {
      "text/html": [
       "<div>\n",
       "<style scoped>\n",
       "    .dataframe tbody tr th:only-of-type {\n",
       "        vertical-align: middle;\n",
       "    }\n",
       "\n",
       "    .dataframe tbody tr th {\n",
       "        vertical-align: top;\n",
       "    }\n",
       "\n",
       "    .dataframe thead th {\n",
       "        text-align: right;\n",
       "    }\n",
       "</style>\n",
       "<table border=\"1\" class=\"dataframe\">\n",
       "  <thead>\n",
       "    <tr style=\"text-align: right;\">\n",
       "      <th></th>\n",
       "      <th>PWID</th>\n",
       "      <th>PRIMARY_SOURCE_CODE</th>\n",
       "      <th>OWNER_TYPE_CODE</th>\n",
       "      <th>SERVICE_CONNECTIONS_COUNT</th>\n",
       "      <th>COUNTIES_SERVED</th>\n",
       "      <th>all_violations</th>\n",
       "      <th>health_violations</th>\n",
       "      <th>primary_source</th>\n",
       "      <th>owner_type</th>\n",
       "      <th>county</th>\n",
       "    </tr>\n",
       "  </thead>\n",
       "  <tbody>\n",
       "    <tr>\n",
       "      <th>0</th>\n",
       "      <td>NJ1432001</td>\n",
       "      <td>GW</td>\n",
       "      <td>L</td>\n",
       "      <td>10</td>\n",
       "      <td>Morris</td>\n",
       "      <td>30</td>\n",
       "      <td>0</td>\n",
       "      <td>Ground water</td>\n",
       "      <td>Local Government</td>\n",
       "      <td>Morris</td>\n",
       "    </tr>\n",
       "    <tr>\n",
       "      <th>1</th>\n",
       "      <td>NJ1435002</td>\n",
       "      <td>GW</td>\n",
       "      <td>L</td>\n",
       "      <td>4350</td>\n",
       "      <td>Morris</td>\n",
       "      <td>5</td>\n",
       "      <td>0</td>\n",
       "      <td>Ground water</td>\n",
       "      <td>Local Government</td>\n",
       "      <td>Morris</td>\n",
       "    </tr>\n",
       "    <tr>\n",
       "      <th>2</th>\n",
       "      <td>NJ1503001</td>\n",
       "      <td>GW</td>\n",
       "      <td>L</td>\n",
       "      <td>2253</td>\n",
       "      <td>Ocean</td>\n",
       "      <td>1</td>\n",
       "      <td>1</td>\n",
       "      <td>Ground water</td>\n",
       "      <td>Local Government</td>\n",
       "      <td>Ocean</td>\n",
       "    </tr>\n",
       "    <tr>\n",
       "      <th>3</th>\n",
       "      <td>NJ1522001</td>\n",
       "      <td>GW</td>\n",
       "      <td>L</td>\n",
       "      <td>933</td>\n",
       "      <td>Ocean</td>\n",
       "      <td>1</td>\n",
       "      <td>0</td>\n",
       "      <td>Ground water</td>\n",
       "      <td>Local Government</td>\n",
       "      <td>Ocean</td>\n",
       "    </tr>\n",
       "    <tr>\n",
       "      <th>4</th>\n",
       "      <td>NJ1005001</td>\n",
       "      <td>GW</td>\n",
       "      <td>L</td>\n",
       "      <td>4600</td>\n",
       "      <td>Hunterdon</td>\n",
       "      <td>4</td>\n",
       "      <td>0</td>\n",
       "      <td>Ground water</td>\n",
       "      <td>Local Government</td>\n",
       "      <td>Hunterdon</td>\n",
       "    </tr>\n",
       "  </tbody>\n",
       "</table>\n",
       "</div>"
      ],
      "text/plain": [
       "        PWID PRIMARY_SOURCE_CODE OWNER_TYPE_CODE  SERVICE_CONNECTIONS_COUNT  \\\n",
       "0  NJ1432001                  GW               L                         10   \n",
       "1  NJ1435002                  GW               L                       4350   \n",
       "2  NJ1503001                  GW               L                       2253   \n",
       "3  NJ1522001                  GW               L                        933   \n",
       "4  NJ1005001                  GW               L                       4600   \n",
       "\n",
       "  COUNTIES_SERVED  all_violations  health_violations primary_source  \\\n",
       "0          Morris              30                  0   Ground water   \n",
       "1          Morris               5                  0   Ground water   \n",
       "2           Ocean               1                  1   Ground water   \n",
       "3           Ocean               1                  0   Ground water   \n",
       "4       Hunterdon               4                  0   Ground water   \n",
       "\n",
       "         owner_type     county  \n",
       "0  Local Government     Morris  \n",
       "1  Local Government     Morris  \n",
       "2  Local Government      Ocean  \n",
       "3  Local Government      Ocean  \n",
       "4  Local Government  Hunterdon  "
      ]
     },
     "execution_count": 219,
     "metadata": {},
     "output_type": "execute_result"
    }
   ],
   "source": [
    "sdwa_vios.head()"
   ]
  },
  {
   "cell_type": "markdown",
   "metadata": {},
   "source": [
    "## Join Census county data to water system data"
   ]
  },
  {
   "cell_type": "code",
   "execution_count": 220,
   "metadata": {},
   "outputs": [
    {
     "data": {
      "text/html": [
       "<div>\n",
       "<style scoped>\n",
       "    .dataframe tbody tr th:only-of-type {\n",
       "        vertical-align: middle;\n",
       "    }\n",
       "\n",
       "    .dataframe tbody tr th {\n",
       "        vertical-align: top;\n",
       "    }\n",
       "\n",
       "    .dataframe thead th {\n",
       "        text-align: right;\n",
       "    }\n",
       "</style>\n",
       "<table border=\"1\" class=\"dataframe\">\n",
       "  <thead>\n",
       "    <tr style=\"text-align: right;\">\n",
       "      <th></th>\n",
       "      <th>total_pop</th>\n",
       "      <th>white_pop</th>\n",
       "      <th>pov_pop</th>\n",
       "      <th>state</th>\n",
       "      <th>county</th>\n",
       "    </tr>\n",
       "  </thead>\n",
       "  <tbody>\n",
       "    <tr>\n",
       "      <th>0</th>\n",
       "      <td>627551</td>\n",
       "      <td>473037</td>\n",
       "      <td>47055</td>\n",
       "      <td>34</td>\n",
       "      <td>25</td>\n",
       "    </tr>\n",
       "    <tr>\n",
       "      <th>1</th>\n",
       "      <td>373362</td>\n",
       "      <td>189649</td>\n",
       "      <td>40450</td>\n",
       "      <td>34</td>\n",
       "      <td>21</td>\n",
       "    </tr>\n",
       "    <tr>\n",
       "      <th>2</th>\n",
       "      <td>143570</td>\n",
       "      <td>125183</td>\n",
       "      <td>7573</td>\n",
       "      <td>34</td>\n",
       "      <td>37</td>\n",
       "    </tr>\n",
       "    <tr>\n",
       "      <th>3</th>\n",
       "      <td>154952</td>\n",
       "      <td>73427</td>\n",
       "      <td>26781</td>\n",
       "      <td>34</td>\n",
       "      <td>11</td>\n",
       "    </tr>\n",
       "    <tr>\n",
       "      <th>4</th>\n",
       "      <td>333316</td>\n",
       "      <td>192408</td>\n",
       "      <td>15745</td>\n",
       "      <td>34</td>\n",
       "      <td>35</td>\n",
       "    </tr>\n",
       "  </tbody>\n",
       "</table>\n",
       "</div>"
      ],
      "text/plain": [
       "   total_pop  white_pop  pov_pop  state  county\n",
       "0     627551     473037    47055     34      25\n",
       "1     373362     189649    40450     34      21\n",
       "2     143570     125183     7573     34      37\n",
       "3     154952      73427    26781     34      11\n",
       "4     333316     192408    15745     34      35"
      ]
     },
     "execution_count": 220,
     "metadata": {},
     "output_type": "execute_result"
    }
   ],
   "source": [
    "# Open Census data\n",
    "cen_data_county = pd.read_csv('../Data/Created/census_county.csv')\n",
    "cen_data_county.head()"
   ]
  },
  {
   "cell_type": "code",
   "execution_count": 221,
   "metadata": {},
   "outputs": [],
   "source": [
    "# Add columns showing percentage of people under the poverty line and percentage people of color\n",
    "cen_data_county['POC_pop'] = cen_data_county['total_pop'] - cen_data_county['white_pop']\n",
    "cen_data_county['perc_POC'] = (cen_data_county['POC_pop'] / cen_data_county['total_pop']) * 100\n",
    "cen_data_county['perc_pov'] = (cen_data_county['pov_pop'] / cen_data_county['total_pop']) * 100"
   ]
  },
  {
   "cell_type": "code",
   "execution_count": 222,
   "metadata": {},
   "outputs": [
    {
     "data": {
      "text/html": [
       "<div>\n",
       "<style scoped>\n",
       "    .dataframe tbody tr th:only-of-type {\n",
       "        vertical-align: middle;\n",
       "    }\n",
       "\n",
       "    .dataframe tbody tr th {\n",
       "        vertical-align: top;\n",
       "    }\n",
       "\n",
       "    .dataframe thead th {\n",
       "        text-align: right;\n",
       "    }\n",
       "</style>\n",
       "<table border=\"1\" class=\"dataframe\">\n",
       "  <thead>\n",
       "    <tr style=\"text-align: right;\">\n",
       "      <th></th>\n",
       "      <th>total_pop</th>\n",
       "      <th>white_pop</th>\n",
       "      <th>pov_pop</th>\n",
       "      <th>state</th>\n",
       "      <th>county</th>\n",
       "      <th>POC_pop</th>\n",
       "      <th>perc_POC</th>\n",
       "      <th>perc_pov</th>\n",
       "    </tr>\n",
       "  </thead>\n",
       "  <tbody>\n",
       "    <tr>\n",
       "      <th>0</th>\n",
       "      <td>627551</td>\n",
       "      <td>473037</td>\n",
       "      <td>47055</td>\n",
       "      <td>34</td>\n",
       "      <td>25</td>\n",
       "      <td>154514</td>\n",
       "      <td>24.621744</td>\n",
       "      <td>7.498195</td>\n",
       "    </tr>\n",
       "    <tr>\n",
       "      <th>1</th>\n",
       "      <td>373362</td>\n",
       "      <td>189649</td>\n",
       "      <td>40450</td>\n",
       "      <td>34</td>\n",
       "      <td>21</td>\n",
       "      <td>183713</td>\n",
       "      <td>49.205061</td>\n",
       "      <td>10.833990</td>\n",
       "    </tr>\n",
       "    <tr>\n",
       "      <th>2</th>\n",
       "      <td>143570</td>\n",
       "      <td>125183</td>\n",
       "      <td>7573</td>\n",
       "      <td>34</td>\n",
       "      <td>37</td>\n",
       "      <td>18387</td>\n",
       "      <td>12.806993</td>\n",
       "      <td>5.274779</td>\n",
       "    </tr>\n",
       "    <tr>\n",
       "      <th>3</th>\n",
       "      <td>154952</td>\n",
       "      <td>73427</td>\n",
       "      <td>26781</td>\n",
       "      <td>34</td>\n",
       "      <td>11</td>\n",
       "      <td>81525</td>\n",
       "      <td>52.613067</td>\n",
       "      <td>17.283417</td>\n",
       "    </tr>\n",
       "    <tr>\n",
       "      <th>4</th>\n",
       "      <td>333316</td>\n",
       "      <td>192408</td>\n",
       "      <td>15745</td>\n",
       "      <td>34</td>\n",
       "      <td>35</td>\n",
       "      <td>140908</td>\n",
       "      <td>42.274598</td>\n",
       "      <td>4.723746</td>\n",
       "    </tr>\n",
       "  </tbody>\n",
       "</table>\n",
       "</div>"
      ],
      "text/plain": [
       "   total_pop  white_pop  pov_pop  state  county  POC_pop   perc_POC   perc_pov\n",
       "0     627551     473037    47055     34      25   154514  24.621744   7.498195\n",
       "1     373362     189649    40450     34      21   183713  49.205061  10.833990\n",
       "2     143570     125183     7573     34      37    18387  12.806993   5.274779\n",
       "3     154952      73427    26781     34      11    81525  52.613067  17.283417\n",
       "4     333316     192408    15745     34      35   140908  42.274598   4.723746"
      ]
     },
     "execution_count": 222,
     "metadata": {},
     "output_type": "execute_result"
    }
   ],
   "source": [
    "cen_data_county.head()"
   ]
  },
  {
   "cell_type": "code",
   "execution_count": 223,
   "metadata": {},
   "outputs": [],
   "source": [
    "# Add county names to the Census data for joining\n",
    "county_fips_codes = {'1': 'Head',\n",
    "                    '3': 'Bergen',\n",
    "                    '5': 'Burlington',\n",
    "                    '7': 'Camden',\n",
    "                    '9': 'Cape May',\n",
    "                    '11': 'Cumberland',\n",
    "                    '13': 'Essex',\n",
    "                    '15': 'Gloucester',\n",
    "                    '17': 'Hudson',\n",
    "                    '19': 'Hunterdon',\n",
    "                    '21': 'Merger',\n",
    "                    '23': 'Middlesex',\n",
    "                    '25': 'Monmouth',\n",
    "                    '27': 'Morris',\n",
    "                    '29': 'Ocean',\n",
    "                    '31': 'Passaic',\n",
    "                    '33': 'Salem',\n",
    "                    '35': 'Somerset',\n",
    "                    '37': 'Sussex',\n",
    "                    '39': 'Union',\n",
    "                    '41': 'Warren'}"
   ]
  },
  {
   "cell_type": "code",
   "execution_count": 224,
   "metadata": {},
   "outputs": [],
   "source": [
    "# Function to convert the county FIPS code to county name\n",
    "def cfc_to_name(code):\n",
    "    return county_fips_codes[str(code)]\n",
    "\n",
    "cen_data_county['county'] = cen_data_county['county'].apply(cfc_to_name).astype('object')"
   ]
  },
  {
   "cell_type": "code",
   "execution_count": 226,
   "metadata": {},
   "outputs": [],
   "source": [
    "# Join the two datasets\n",
    "pws_cen_county = pd.merge(sdwa_vios, cen_data_county, \n",
    "                          on='county', how='left', validate='many_to_many')"
   ]
  },
  {
   "cell_type": "markdown",
   "metadata": {},
   "source": [
    "## Join new DataFrame to public water system spatial file"
   ]
  },
  {
   "cell_type": "code",
   "execution_count": 227,
   "metadata": {},
   "outputs": [],
   "source": [
    "# Import NJ public water system geospatial data\n",
    "pws_geodata = gpd.read_file('../Data/NJDEP/New_Jersey__Public_Community_Water_Purveyor_Service_Areas.shp')"
   ]
  },
  {
   "cell_type": "code",
   "execution_count": 228,
   "metadata": {},
   "outputs": [],
   "source": [
    "# Join the two datasets\n",
    "pws_county_geodata = pd.merge(pws_geodata[['PWID', 'geometry']], \n",
    "                              pws_cen_county, on='PWID' )"
   ]
  },
  {
   "cell_type": "markdown",
   "metadata": {},
   "source": [
    "## Join rural/urban data to the new file and save "
   ]
  },
  {
   "cell_type": "code",
   "execution_count": 229,
   "metadata": {},
   "outputs": [],
   "source": [
    "urban_rural = pd.read_csv('../Data/Census/DEC_10_SF1_H2_with_ann.csv')"
   ]
  },
  {
   "cell_type": "code",
   "execution_count": 230,
   "metadata": {},
   "outputs": [],
   "source": [
    "# Reassign header names\n",
    "urban_rural.columns = urban_rural.iloc[0]"
   ]
  },
  {
   "cell_type": "code",
   "execution_count": 231,
   "metadata": {},
   "outputs": [
    {
     "data": {
      "text/html": [
       "<div>\n",
       "<style scoped>\n",
       "    .dataframe tbody tr th:only-of-type {\n",
       "        vertical-align: middle;\n",
       "    }\n",
       "\n",
       "    .dataframe tbody tr th {\n",
       "        vertical-align: top;\n",
       "    }\n",
       "\n",
       "    .dataframe thead th {\n",
       "        text-align: right;\n",
       "    }\n",
       "</style>\n",
       "<table border=\"1\" class=\"dataframe\">\n",
       "  <thead>\n",
       "    <tr style=\"text-align: right;\">\n",
       "      <th></th>\n",
       "      <th>Id</th>\n",
       "      <th>Id2</th>\n",
       "      <th>Geography</th>\n",
       "      <th>Total:</th>\n",
       "      <th>Urban:</th>\n",
       "      <th>Urban: - Inside urbanized areas</th>\n",
       "      <th>Urban: - Inside urban clusters</th>\n",
       "      <th>Rural</th>\n",
       "      <th>Not defined for this file</th>\n",
       "    </tr>\n",
       "  </thead>\n",
       "  <tbody>\n",
       "    <tr>\n",
       "      <th>1</th>\n",
       "      <td>0500000US34001</td>\n",
       "      <td>34001</td>\n",
       "      <td>Atlantic County, New Jersey</td>\n",
       "      <td>126647</td>\n",
       "      <td>112952</td>\n",
       "      <td>107877</td>\n",
       "      <td>5075</td>\n",
       "      <td>13695</td>\n",
       "      <td>0</td>\n",
       "    </tr>\n",
       "    <tr>\n",
       "      <th>2</th>\n",
       "      <td>0500000US34003</td>\n",
       "      <td>34003</td>\n",
       "      <td>Bergen County, New Jersey</td>\n",
       "      <td>352388</td>\n",
       "      <td>352067</td>\n",
       "      <td>352067</td>\n",
       "      <td>0</td>\n",
       "      <td>321</td>\n",
       "      <td>0</td>\n",
       "    </tr>\n",
       "    <tr>\n",
       "      <th>3</th>\n",
       "      <td>0500000US34005</td>\n",
       "      <td>34005</td>\n",
       "      <td>Burlington County, New Jersey</td>\n",
       "      <td>175615(r22678)</td>\n",
       "      <td>164536</td>\n",
       "      <td>152961</td>\n",
       "      <td>11575</td>\n",
       "      <td>11079</td>\n",
       "      <td>0</td>\n",
       "    </tr>\n",
       "    <tr>\n",
       "      <th>4</th>\n",
       "      <td>0500000US34007</td>\n",
       "      <td>34007</td>\n",
       "      <td>Camden County, New Jersey</td>\n",
       "      <td>204943(r22684)</td>\n",
       "      <td>201571</td>\n",
       "      <td>201551</td>\n",
       "      <td>20</td>\n",
       "      <td>3372</td>\n",
       "      <td>0</td>\n",
       "    </tr>\n",
       "    <tr>\n",
       "      <th>5</th>\n",
       "      <td>0500000US34009</td>\n",
       "      <td>34009</td>\n",
       "      <td>Cape May County, New Jersey</td>\n",
       "      <td>98309</td>\n",
       "      <td>89379</td>\n",
       "      <td>89379</td>\n",
       "      <td>0</td>\n",
       "      <td>8930</td>\n",
       "      <td>0</td>\n",
       "    </tr>\n",
       "  </tbody>\n",
       "</table>\n",
       "</div>"
      ],
      "text/plain": [
       "0              Id    Id2                      Geography          Total:  \\\n",
       "1  0500000US34001  34001    Atlantic County, New Jersey          126647   \n",
       "2  0500000US34003  34003      Bergen County, New Jersey          352388   \n",
       "3  0500000US34005  34005  Burlington County, New Jersey  175615(r22678)   \n",
       "4  0500000US34007  34007      Camden County, New Jersey  204943(r22684)   \n",
       "5  0500000US34009  34009    Cape May County, New Jersey           98309   \n",
       "\n",
       "0  Urban: Urban: - Inside urbanized areas Urban: - Inside urban clusters  \\\n",
       "1  112952                          107877                           5075   \n",
       "2  352067                          352067                              0   \n",
       "3  164536                          152961                          11575   \n",
       "4  201571                          201551                             20   \n",
       "5   89379                           89379                              0   \n",
       "\n",
       "0  Rural Not defined for this file  \n",
       "1  13695                         0  \n",
       "2    321                         0  \n",
       "3  11079                         0  \n",
       "4   3372                         0  \n",
       "5   8930                         0  "
      ]
     },
     "execution_count": 231,
     "metadata": {},
     "output_type": "execute_result"
    }
   ],
   "source": [
    "urban_rural = urban_rural.iloc[1:]\n",
    "urban_rural.head()"
   ]
  },
  {
   "cell_type": "code",
   "execution_count": 232,
   "metadata": {},
   "outputs": [],
   "source": [
    "# Function for simplifying county name\n",
    "def remove_last_three_words(test):\n",
    "    return test.rsplit(' ', 3)[0]"
   ]
  },
  {
   "cell_type": "code",
   "execution_count": 233,
   "metadata": {},
   "outputs": [],
   "source": [
    "# Cleaning/reorganizing data\n",
    "urban_rural['county'] = urban_rural['Geography'].apply(remove_last_three_words)\n",
    "urban_rural['urban'] = urban_rural['Urban:'].astype('int64')\n",
    "urban_rural['rural'] = urban_rural['Rural'].astype('int64')\n",
    "\n",
    "urban_rural['perc_urban'] = urban_rural['urban'] / (urban_rural['rural'] + urban_rural['urban'])\n",
    "urban_rural['perc_rural'] =  urban_rural['rural'] / (urban_rural['rural'] + urban_rural['urban'])"
   ]
  },
  {
   "cell_type": "code",
   "execution_count": 234,
   "metadata": {},
   "outputs": [
    {
     "data": {
      "text/html": [
       "<div>\n",
       "<style scoped>\n",
       "    .dataframe tbody tr th:only-of-type {\n",
       "        vertical-align: middle;\n",
       "    }\n",
       "\n",
       "    .dataframe tbody tr th {\n",
       "        vertical-align: top;\n",
       "    }\n",
       "\n",
       "    .dataframe thead th {\n",
       "        text-align: right;\n",
       "    }\n",
       "</style>\n",
       "<table border=\"1\" class=\"dataframe\">\n",
       "  <thead>\n",
       "    <tr style=\"text-align: right;\">\n",
       "      <th></th>\n",
       "      <th>county</th>\n",
       "      <th>perc_urban</th>\n",
       "      <th>perc_rural</th>\n",
       "    </tr>\n",
       "  </thead>\n",
       "  <tbody>\n",
       "    <tr>\n",
       "      <th>1</th>\n",
       "      <td>Atlantic</td>\n",
       "      <td>0.891865</td>\n",
       "      <td>0.108135</td>\n",
       "    </tr>\n",
       "    <tr>\n",
       "      <th>2</th>\n",
       "      <td>Bergen</td>\n",
       "      <td>0.999089</td>\n",
       "      <td>0.000911</td>\n",
       "    </tr>\n",
       "    <tr>\n",
       "      <th>3</th>\n",
       "      <td>Burlington</td>\n",
       "      <td>0.936913</td>\n",
       "      <td>0.063087</td>\n",
       "    </tr>\n",
       "    <tr>\n",
       "      <th>4</th>\n",
       "      <td>Camden</td>\n",
       "      <td>0.983547</td>\n",
       "      <td>0.016453</td>\n",
       "    </tr>\n",
       "    <tr>\n",
       "      <th>5</th>\n",
       "      <td>Cape May</td>\n",
       "      <td>0.909164</td>\n",
       "      <td>0.090836</td>\n",
       "    </tr>\n",
       "  </tbody>\n",
       "</table>\n",
       "</div>"
      ],
      "text/plain": [
       "0      county  perc_urban  perc_rural\n",
       "1    Atlantic    0.891865    0.108135\n",
       "2      Bergen    0.999089    0.000911\n",
       "3  Burlington    0.936913    0.063087\n",
       "4      Camden    0.983547    0.016453\n",
       "5    Cape May    0.909164    0.090836"
      ]
     },
     "execution_count": 234,
     "metadata": {},
     "output_type": "execute_result"
    }
   ],
   "source": [
    "urban_rural_clean = urban_rural[['county','perc_urban','perc_rural']]\n",
    "urban_rural_clean.head()"
   ]
  },
  {
   "cell_type": "code",
   "execution_count": 235,
   "metadata": {},
   "outputs": [
    {
     "name": "stderr",
     "output_type": "stream",
     "text": [
      "C:\\Users\\zstat\\Anaconda2\\envs\\py36\\lib\\site-packages\\ipykernel_launcher.py:2: SettingWithCopyWarning: \n",
      "A value is trying to be set on a copy of a slice from a DataFrame.\n",
      "Try using .loc[row_indexer,col_indexer] = value instead\n",
      "\n",
      "See the caveats in the documentation: http://pandas.pydata.org/pandas-docs/stable/indexing.html#indexing-view-versus-copy\n",
      "  \n"
     ]
    }
   ],
   "source": [
    "# Add a variable to identify the PWS as urban or rural\n",
    "urban_rural_clean['urban_rural'] = np.where(urban_rural_clean['perc_urban']> 0.50, 'urban', 'rural')"
   ]
  },
  {
   "cell_type": "code",
   "execution_count": 247,
   "metadata": {},
   "outputs": [],
   "source": [
    "# Join the datasets\n",
    "pws_county_complete = pd.merge(pws_county_geodata, urban_rural_clean, \n",
    "                               on='county', how='left', validate='many_to_many')"
   ]
  },
  {
   "cell_type": "code",
   "execution_count": 249,
   "metadata": {},
   "outputs": [],
   "source": [
    "# Export to GeoJSON\n",
    "# First, need to upcast everything into the \"multi-polygon\" type\n",
    "\n",
    "from shapely import geometry\n",
    "upcast_dispatch = {geometry.Point: geometry.MultiPoint, \n",
    "                   geometry.LineString: geometry.MultiLineString, \n",
    "                   geometry.Polygon: geometry.MultiPolygon}\n",
    "\n",
    "def maybe_cast_to_multigeometry(geom):\n",
    "    caster = upcast_dispatch.get(type(geom), lambda x: x[0])\n",
    "    return caster([geom])\n",
    "\n",
    "pws_county_complete['geometry'] = pws_county_complete['geometry'].apply(maybe_cast_to_multigeometry)"
   ]
  },
  {
   "cell_type": "code",
   "execution_count": 251,
   "metadata": {},
   "outputs": [
    {
     "name": "stderr",
     "output_type": "stream",
     "text": [
      "C:\\Users\\zstat\\Anaconda2\\envs\\py36\\lib\\site-packages\\geopandas\\io\\file.py:108: FionaDeprecationWarning: Use fiona.Env() instead.\n",
      "  with fiona.drivers():\n"
     ]
    }
   ],
   "source": [
    "pws_county_complete.to_file('..\\Data\\Created\\SpatialAnalysis\\county_vios.geojson', driver = 'GeoJSON')"
   ]
  }
 ],
 "metadata": {
  "kernelspec": {
   "display_name": "Python 3",
   "language": "python",
   "name": "python3"
  },
  "language_info": {
   "codemirror_mode": {
    "name": "ipython",
    "version": 3
   },
   "file_extension": ".py",
   "mimetype": "text/x-python",
   "name": "python",
   "nbconvert_exporter": "python",
   "pygments_lexer": "ipython3",
   "version": "3.6.6"
  }
 },
 "nbformat": 4,
 "nbformat_minor": 2
}
