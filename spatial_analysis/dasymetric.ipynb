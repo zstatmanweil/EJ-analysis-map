{
 "cells": [
  {
   "cell_type": "code",
   "execution_count": 2,
   "metadata": {},
   "outputs": [
    {
     "name": "stderr",
     "output_type": "stream",
     "text": [
      "C:\\Users\\zstat\\Anaconda2\\envs\\py36\\lib\\site-packages\\pysal\\__init__.py:65: VisibleDeprecationWarning: PySAL's API will be changed on 2018-12-31. The last release made with this API is version 1.14.4. A preview of the next API version is provided in the `pysal` 2.0 prelease candidate. The API changes and a guide on how to change imports is provided at https://migrating.pysal.org\n",
      "  ), VisibleDeprecationWarning)\n"
     ]
    }
   ],
   "source": [
    "%matplotlib inline\n",
    "\n",
    "from osgeo import gdal, ogr, osr\n",
    "import rasterio\n",
    "from rasterio.plot import show\n",
    "from rasterio.plot import show_hist\n",
    "from rasterio.mask import mask\n",
    "from shapely.geometry import box\n",
    "import geopandas as gpd\n",
    "from fiona.crs import from_epsg\n",
    "import pycrs\n",
    "import matplotlib.pyplot as plt\n",
    "import numpy as np\n",
    "import os\n",
    "import cenpy as cen"
   ]
  },
  {
   "cell_type": "markdown",
   "metadata": {},
   "source": [
    "## Explore the National Land Cover Database (NLCD) raster"
   ]
  },
  {
   "cell_type": "code",
   "execution_count": null,
   "metadata": {},
   "outputs": [],
   "source": [
    "NLCD = '../data/NLCD/NLCD2011_LC_New_Jersey/NLCD2011_LC_New_Jersey.tif'"
   ]
  },
  {
   "cell_type": "code",
   "execution_count": null,
   "metadata": {},
   "outputs": [],
   "source": [
    "# Check coordinate system and exclude values outside of the land cover classification numbers\n",
    "with rasterio.open(NLCD) as nlcd_raster:\n",
    "    crs = nlcd_raster.crs\n",
    "    nlcd = nlcd_raster.read(1)\n",
    "    #nlcd = nlcd.astype('f4')\n",
    "    # Set cells to 0\n",
    "    nlcd[nlcd>95] = 0\n",
    "\n",
    "crs\n",
    "nlcd.dtype"
   ]
  },
  {
   "cell_type": "code",
   "execution_count": null,
   "metadata": {},
   "outputs": [],
   "source": [
    "#Identify the count of each value in the raster\n",
    "(values, counts) = np.unique(nlcd, return_counts=True)\n",
    "values = dict(zip(values, counts))\n",
    "values"
   ]
  },
  {
   "cell_type": "code",
   "execution_count": null,
   "metadata": {},
   "outputs": [],
   "source": [
    "a=np.hstack(nlcd)\n",
    "plt.hist(a, bins='auto')\n",
    "plt.show"
   ]
  },
  {
   "cell_type": "code",
   "execution_count": null,
   "metadata": {},
   "outputs": [],
   "source": [
    "# Map array\n",
    "plt.imshow(nlcd)\n",
    "plt.colorbar()\n",
    "plt.xlabel('Column #')\n",
    "plt.ylabel('Row #')\n"
   ]
  },
  {
   "cell_type": "markdown",
   "metadata": {},
   "source": [
    "## Identify only residential land"
   ]
  },
  {
   "cell_type": "code",
   "execution_count": null,
   "metadata": {},
   "outputs": [],
   "source": [
    "# Create a function to only identify residential land. These values are provided in the metadata about the NLCD.\n",
    "res_values =  [22, 23, 24]\n",
    "non_res_values = [11,12,21,31,41,42,43,51,52,71,72,81,82,90,95]\n",
    "\n",
    "def identify_res_land(array):\n",
    "    for val in res_values:\n",
    "        array[array==val] = 1\n",
    "    for val in non_res_values:\n",
    "        array[array==val] = 0\n",
    "        \n",
    "    return array"
   ]
  },
  {
   "cell_type": "code",
   "execution_count": null,
   "metadata": {
    "scrolled": true
   },
   "outputs": [],
   "source": [
    "# Map new array\n",
    "nj_res_land = identify_res_land(nlcd)\n",
    "\n",
    "plt.imshow(nj_res_land)\n",
    "leg = plt.colorbar()\n",
    "plt.xlabel('Column #')\n",
    "plt.ylabel('Row #')"
   ]
  },
  {
   "cell_type": "code",
   "execution_count": null,
   "metadata": {},
   "outputs": [],
   "source": [
    "# Preparing to export new array as a raster (GeoTIFF)\n",
    "out_fp = '../data/Created/NJ_residential.tif'"
   ]
  },
  {
   "cell_type": "code",
   "execution_count": null,
   "metadata": {},
   "outputs": [],
   "source": [
    "# If the file exists, delete it\n",
    "if os.path.exists(out_fp):\n",
    "    os.remove(out_fp)\n",
    "else:\n",
    "    print(\"Cannot delete the file as it doesn't exists\")"
   ]
  },
  {
   "cell_type": "code",
   "execution_count": null,
   "metadata": {},
   "outputs": [],
   "source": [
    "# Get original raster's coordinate system and affine transformation\n",
    "with rasterio.open(NLCD) as source_raster:\n",
    "    source_crs = source_raster.crs\n",
    "    source_transform = source_raster.transform\n",
    "print(source_crs)\n",
    "print(source_transform)"
   ]
  },
  {
   "cell_type": "code",
   "execution_count": null,
   "metadata": {},
   "outputs": [],
   "source": [
    "# Export array to raster(GeoTiff)\n",
    "with rasterio.open(out_fp, 'w', driver='GTiff',\n",
    "                   height=nj_res_land.shape[0], # Number of rows\n",
    "                   width=nj_res_land.shape[1], # Number of columns\n",
    "                   count=1, # Number of bands\n",
    "                   dtype=nj_res_land.dtype, # This must match the datatpe of the array\n",
    "                   crs=source_crs,\n",
    "                   transform=source_transform\n",
    "                  ) as out_raster:\n",
    "    out_raster.write(nj_res_land, 1)\n",
    "    out_raster.nodata = -1 # Set the raster's nodata value"
   ]
  },
  {
   "cell_type": "code",
   "execution_count": null,
   "metadata": {},
   "outputs": [],
   "source": [
    "# Map and examine new raster\n",
    "exported = rasterio.open(out_fp)\n",
    "rasterio.plot.show(exported)"
   ]
  },
  {
   "cell_type": "markdown",
   "metadata": {},
   "source": [
    "## Crop raster for experimentation"
   ]
  },
  {
   "cell_type": "markdown",
   "metadata": {},
   "source": [
    "Since I was coming across some problems converting the raster into polygons and gdal.Polygonize() was quite slow, I clipped the raster in order to experiment on a smaller dataset."
   ]
  },
  {
   "cell_type": "code",
   "execution_count": null,
   "metadata": {},
   "outputs": [],
   "source": [
    "original = '../data/Created/NJ_residential.tif'\n",
    "clip = '../data/Created/NJ_res_clip.tif'\n",
    "data = rasterio.open(original)"
   ]
  },
  {
   "cell_type": "code",
   "execution_count": null,
   "metadata": {},
   "outputs": [],
   "source": [
    "# WGS84 coordinates for clipping\n",
    "minx, miny = -74.5, 40.6\n",
    "maxx, maxy = -74.4, 40.7\n",
    "bbox = box(minx, miny, maxx, maxy) "
   ]
  },
  {
   "cell_type": "code",
   "execution_count": null,
   "metadata": {},
   "outputs": [],
   "source": [
    "# Insert the box into a GeoDataFrame\n",
    "geo = gpd.GeoDataFrame({'geometry': bbox}, index=[0], crs=from_epsg(4326))"
   ]
  },
  {
   "cell_type": "code",
   "execution_count": null,
   "metadata": {},
   "outputs": [],
   "source": [
    "# Re-project into the same coordinate system as the raster data\n",
    "geo = geo.to_crs(crs=data.crs.data)"
   ]
  },
  {
   "cell_type": "code",
   "execution_count": null,
   "metadata": {},
   "outputs": [],
   "source": [
    "# Convert features into a rasterio-friendly format\n",
    "def getFeatures(gdf):\n",
    "    \"\"\"Function to parse features from GeoDataFrame in such a manner that rasterio wants them\"\"\"\n",
    "    import json\n",
    "    return [json.loads(gdf.to_json())['features'][0]['geometry']]"
   ]
  },
  {
   "cell_type": "code",
   "execution_count": null,
   "metadata": {},
   "outputs": [],
   "source": [
    "coords = getFeatures(geo)"
   ]
  },
  {
   "cell_type": "code",
   "execution_count": null,
   "metadata": {},
   "outputs": [],
   "source": [
    "print(coords)"
   ]
  },
  {
   "cell_type": "code",
   "execution_count": null,
   "metadata": {},
   "outputs": [],
   "source": [
    "# Clip raster based on mask data\n",
    "from rasterio.mask import mask\n",
    "out_img, out_transform = mask(data, shapes=coords, crop=True)"
   ]
  },
  {
   "cell_type": "code",
   "execution_count": null,
   "metadata": {},
   "outputs": [],
   "source": [
    "# Now need to modify the metadata\n",
    "out_meta = data.meta.copy()\n",
    "out_meta"
   ]
  },
  {
   "cell_type": "code",
   "execution_count": null,
   "metadata": {},
   "outputs": [],
   "source": [
    "out_meta.update({\"driver\": \"GTiff\",\n",
    "                 \"height\": out_img.shape[1],\n",
    "                 \"width\": out_img.shape[2],\n",
    "                 \"transform\": out_transform})"
   ]
  },
  {
   "cell_type": "code",
   "execution_count": null,
   "metadata": {},
   "outputs": [],
   "source": [
    "with rasterio.open(clip, 'w', **out_meta) as dest:\n",
    "    dest.write(out_img)"
   ]
  },
  {
   "cell_type": "code",
   "execution_count": null,
   "metadata": {},
   "outputs": [],
   "source": [
    "clip_raster = rasterio.open(clip)\n",
    "rasterio.plot.show(clip_raster)"
   ]
  },
  {
   "cell_type": "markdown",
   "metadata": {},
   "source": [
    "## Polygonize the new raster"
   ]
  },
  {
   "cell_type": "code",
   "execution_count": null,
   "metadata": {},
   "outputs": [],
   "source": [
    "gdal.UseExceptions"
   ]
  },
  {
   "cell_type": "code",
   "execution_count": null,
   "metadata": {},
   "outputs": [],
   "source": [
    "# Get raster datsource\n",
    "sourceRaster = gdal.Open('../data/Created/nj_residential.tif')\n",
    "sr_proj=sourceRaster.GetProjection()\n",
    "raster_proj = osr.SpatialReference()\n",
    "raster_proj.ImportFromWkt(sr_proj)"
   ]
  },
  {
   "cell_type": "code",
   "execution_count": null,
   "metadata": {},
   "outputs": [],
   "source": [
    "band = sourceRaster.GetRasterBand(1) \n",
    "bandArray = band.ReadAsArray()"
   ]
  },
  {
   "cell_type": "code",
   "execution_count": null,
   "metadata": {},
   "outputs": [],
   "source": [
    "outShapefile = '../data/Created/nj_residential'"
   ]
  },
  {
   "cell_type": "code",
   "execution_count": null,
   "metadata": {},
   "outputs": [],
   "source": [
    "driver = ogr.GetDriverByName(\"ESRI Shapefile\")\n",
    "outDatasource = driver.CreateDataSource(outShapefile+ \".shp\")\n",
    "outLayer = outDatasource.CreateLayer('polygonized', srs=raster_proj)\n",
    "newField = ogr.FieldDefn('LandType', ogr.OFTInteger)\n",
    "outLayer.CreateField(newField)\n",
    "\n",
    "gdal.Polygonize( band, None, outLayer, 0, [], callback=None )\n",
    "outDatasource.Destroy()\n",
    "sourceRaster = None"
   ]
  },
  {
   "cell_type": "code",
   "execution_count": null,
   "metadata": {
    "scrolled": true
   },
   "outputs": [],
   "source": [
    "res_geodata = gpd.read_file(outShapefile + '.shp')\n",
    "res_geodata.head(20)"
   ]
  },
  {
   "cell_type": "code",
   "execution_count": null,
   "metadata": {},
   "outputs": [],
   "source": [
    "# Plot the new file\n",
    "fig, ax = plt.subplots()\n",
    "res_geodata.plot(ax=ax,)\n",
    "\n",
    "plt.show()"
   ]
  },
  {
   "cell_type": "code",
   "execution_count": null,
   "metadata": {},
   "outputs": [],
   "source": [
    "# Identify only residential land\n",
    "res_only = res_geodata[res_geodata.LandType == 1]\n",
    "res_only.head(20)"
   ]
  },
  {
   "cell_type": "code",
   "execution_count": null,
   "metadata": {},
   "outputs": [],
   "source": [
    "# Confibrm res_only has less items in the list\n",
    "len(res_only), len(res_geodata)"
   ]
  },
  {
   "cell_type": "code",
   "execution_count": null,
   "metadata": {},
   "outputs": [],
   "source": [
    "# Aggregate data into one polygon\n",
    "all_res = res_only.dissolve(by='LandType')"
   ]
  },
  {
   "cell_type": "code",
   "execution_count": null,
   "metadata": {},
   "outputs": [],
   "source": [
    "# Save to a shapefile and GeoJSON\n",
    "all_res.to_file('../data/Created/all_res.shp', driver='ESRI Shapefile')\n",
    "all_res.to_file('../data/Created/all_res.json', driver='GeoJSON')"
   ]
  },
  {
   "cell_type": "markdown",
   "metadata": {},
   "source": [
    "## Prepare the Census and residential data for analysis"
   ]
  },
  {
   "cell_type": "code",
   "execution_count": 6,
   "metadata": {},
   "outputs": [],
   "source": [
    "# Import NJ public water system data\n",
    "pws_geodata = gpd.read_file('../data/NJDEP/New_Jersey__Public_Community_Water_Purveyor_Service_Areas.shp')"
   ]
  },
  {
   "cell_type": "code",
   "execution_count": 4,
   "metadata": {},
   "outputs": [],
   "source": [
    "# Import my census tract/census data shapefile\n",
    "census_geodata = gpd.read_file('../data/Created/NJ_cen_data.shp')"
   ]
  },
  {
   "cell_type": "code",
   "execution_count": 5,
   "metadata": {},
   "outputs": [
    {
     "name": "stdout",
     "output_type": "stream",
     "text": [
      "PWS coordinate system: {'init': 'epsg:102711'}\n"
     ]
    },
    {
     "ename": "NameError",
     "evalue": "name 'all_res' is not defined",
     "output_type": "error",
     "traceback": [
      "\u001b[1;31m---------------------------------------------------------------------------\u001b[0m",
      "\u001b[1;31mNameError\u001b[0m                                 Traceback (most recent call last)",
      "\u001b[1;32m<ipython-input-5-38c1637016b5>\u001b[0m in \u001b[0;36m<module>\u001b[1;34m()\u001b[0m\n\u001b[0;32m      1\u001b[0m \u001b[1;31m# Check coordinate system of PWS data\u001b[0m\u001b[1;33m\u001b[0m\u001b[1;33m\u001b[0m\u001b[0m\n\u001b[0;32m      2\u001b[0m \u001b[0mprint\u001b[0m\u001b[1;33m(\u001b[0m\u001b[1;34m\"PWS coordinate system: {pws}\"\u001b[0m\u001b[1;33m.\u001b[0m\u001b[0mformat\u001b[0m\u001b[1;33m(\u001b[0m\u001b[0mpws\u001b[0m\u001b[1;33m=\u001b[0m\u001b[0mpws_geodata\u001b[0m\u001b[1;33m.\u001b[0m\u001b[0mcrs\u001b[0m\u001b[1;33m)\u001b[0m\u001b[1;33m)\u001b[0m\u001b[1;33m\u001b[0m\u001b[0m\n\u001b[1;32m----> 3\u001b[1;33m \u001b[0mprint\u001b[0m\u001b[1;33m(\u001b[0m\u001b[1;34m\"Residential coordinate system: {res}\"\u001b[0m\u001b[1;33m.\u001b[0m\u001b[0mformat\u001b[0m\u001b[1;33m(\u001b[0m\u001b[0mres\u001b[0m\u001b[1;33m=\u001b[0m\u001b[0mall_res\u001b[0m\u001b[1;33m.\u001b[0m\u001b[0mcrs\u001b[0m\u001b[1;33m)\u001b[0m\u001b[1;33m)\u001b[0m\u001b[1;33m\u001b[0m\u001b[0m\n\u001b[0m\u001b[0;32m      4\u001b[0m \u001b[0mprint\u001b[0m\u001b[1;33m(\u001b[0m\u001b[1;34m\"Census coordinate system: {census}\"\u001b[0m\u001b[1;33m.\u001b[0m\u001b[0mformat\u001b[0m\u001b[1;33m(\u001b[0m\u001b[0mcensus\u001b[0m\u001b[1;33m=\u001b[0m\u001b[0mcensus_geodata\u001b[0m\u001b[1;33m.\u001b[0m\u001b[0mcrs\u001b[0m\u001b[1;33m)\u001b[0m\u001b[1;33m)\u001b[0m\u001b[1;33m\u001b[0m\u001b[0m\n",
      "\u001b[1;31mNameError\u001b[0m: name 'all_res' is not defined"
     ]
    }
   ],
   "source": [
    "# Check coordinate system of PWS data\n",
    "print(\"PWS coordinate system: {pws}\".format(pws=pws_geodata.crs))\n",
    "print(\"Residential coordinate system: {res}\".format(res=all_res.crs))\n",
    "print(\"Census coordinate system: {census}\".format(census=census_geodata.crs))"
   ]
  },
  {
   "cell_type": "code",
   "execution_count": 7,
   "metadata": {},
   "outputs": [
    {
     "data": {
      "text/plain": [
       "{'init': 'epsg:3424'}"
      ]
     },
     "execution_count": 7,
     "metadata": {},
     "output_type": "execute_result"
    }
   ],
   "source": [
    "# Re-project census tract data to NJ public water system projection\n",
    "census_geodata = census_geodata.to_crs({'init': 'epsg:3424'})\n",
    "census_geodata.crs"
   ]
  },
  {
   "cell_type": "code",
   "execution_count": null,
   "metadata": {},
   "outputs": [],
   "source": [
    "# Re-project land data to NJ public water system projection\n",
    "all_res = all_res.to_crs({'init': 'epsg:3424'})\n",
    "all_res.crs"
   ]
  },
  {
   "cell_type": "markdown",
   "metadata": {},
   "source": [
    "## Predict the population within the water systems using dasymetric mapping"
   ]
  },
  {
   "cell_type": "markdown",
   "metadata": {},
   "source": [
    "1. Find the intersection of of residential land and census tracts (referred to below as residential tracts). The result will be a layer representing the primary locations the population resides, and will include the census population data."
   ]
  },
  {
   "cell_type": "code",
   "execution_count": 8,
   "metadata": {},
   "outputs": [],
   "source": [
    "# Read saved file as above process is slow\n",
    "all_res = gpd.read_file('../data/Created/all_res.shp')"
   ]
  },
  {
   "cell_type": "code",
   "execution_count": 9,
   "metadata": {},
   "outputs": [
    {
     "data": {
      "text/plain": [
       "{'init': 'epsg:3424'}"
      ]
     },
     "execution_count": 9,
     "metadata": {},
     "output_type": "execute_result"
    }
   ],
   "source": [
    "# Re-project land data to NJ public water system projection\n",
    "all_res = all_res.to_crs({'init': 'epsg:3424'})\n",
    "all_res.crs"
   ]
  },
  {
   "cell_type": "code",
   "execution_count": 10,
   "metadata": {},
   "outputs": [
    {
     "data": {
      "text/html": [
       "<div>\n",
       "<style scoped>\n",
       "    .dataframe tbody tr th:only-of-type {\n",
       "        vertical-align: middle;\n",
       "    }\n",
       "\n",
       "    .dataframe tbody tr th {\n",
       "        vertical-align: top;\n",
       "    }\n",
       "\n",
       "    .dataframe thead th {\n",
       "        text-align: right;\n",
       "    }\n",
       "</style>\n",
       "<table border=\"1\" class=\"dataframe\">\n",
       "  <thead>\n",
       "    <tr style=\"text-align: right;\">\n",
       "      <th></th>\n",
       "      <th>FID</th>\n",
       "      <th>geometry</th>\n",
       "    </tr>\n",
       "  </thead>\n",
       "  <tbody>\n",
       "    <tr>\n",
       "      <th>0</th>\n",
       "      <td>0</td>\n",
       "      <td>(POLYGON ((361401.3257702506 36185.20584317789...</td>\n",
       "    </tr>\n",
       "  </tbody>\n",
       "</table>\n",
       "</div>"
      ],
      "text/plain": [
       "   FID                                           geometry\n",
       "0    0  (POLYGON ((361401.3257702506 36185.20584317789..."
      ]
     },
     "execution_count": 10,
     "metadata": {},
     "output_type": "execute_result"
    }
   ],
   "source": [
    "all_res"
   ]
  },
  {
   "cell_type": "code",
   "execution_count": null,
   "metadata": {},
   "outputs": [],
   "source": [
    "# Get intersection of residential area and census tracts\n",
    "res_tract = gpd.overlay(all_res, census_geodata, how='intersection')"
   ]
  },
  {
   "cell_type": "code",
   "execution_count": null,
   "metadata": {},
   "outputs": [],
   "source": [
    "res_tract['Res_area'] = res_tract.geometry.area"
   ]
  },
  {
   "cell_type": "code",
   "execution_count": null,
   "metadata": {},
   "outputs": [],
   "source": [
    "with pd.option_context('display.max_columns', None):\n",
    "    display(pd.DataFrame(res_tract.head(5)))"
   ]
  },
  {
   "cell_type": "code",
   "execution_count": null,
   "metadata": {},
   "outputs": [],
   "source": [
    "res_tract.info()"
   ]
  },
  {
   "cell_type": "markdown",
   "metadata": {},
   "source": [
    "2.  Find the intersection of the new residential tract layer and the PWS system layer and use areal weighting to determine the percentage of the population of each residential tract within the water sytem. "
   ]
  },
  {
   "cell_type": "code",
   "execution_count": null,
   "metadata": {},
   "outputs": [],
   "source": [
    "# Confirm the coordinate systems match\n",
    "print(res_tract.crs, pws_geodata.crs)"
   ]
  },
  {
   "cell_type": "code",
   "execution_count": null,
   "metadata": {},
   "outputs": [],
   "source": [
    "intersect = gpd.overlay(res_tract, pws_geodata, how=\"intersection\")"
   ]
  },
  {
   "cell_type": "code",
   "execution_count": null,
   "metadata": {},
   "outputs": [],
   "source": [
    "with pd.option_context('display.max_columns', None):\n",
    "    display(pd.DataFrame(intersect.head(5)))"
   ]
  },
  {
   "cell_type": "code",
   "execution_count": null,
   "metadata": {},
   "outputs": [],
   "source": [
    "intersect.info()"
   ]
  },
  {
   "cell_type": "code",
   "execution_count": null,
   "metadata": {},
   "outputs": [],
   "source": [
    "# Remove unecessary rows and change some names to be more clear\n",
    "intersect = intersect.drop(columns=['AREALAND','AREAWATER','state','county','tract_1','CENTLAT','CENTLON','STGEOMETRY', 'STGEOMET_1','PWID_URL', 'AGENCY_URL','USER_LAST_','TMSP_LAST_','SHAPE_Leng'])\n",
    "intersect = intersect.rename(columns={'SHAPE_Area': 'PWS_Area'})"
   ]
  },
  {
   "cell_type": "code",
   "execution_count": null,
   "metadata": {},
   "outputs": [],
   "source": [
    "intersect.info()"
   ]
  },
  {
   "cell_type": "code",
   "execution_count": null,
   "metadata": {},
   "outputs": [],
   "source": [
    "intersect['Intersect_area'] = intersect.geometry.area"
   ]
  },
  {
   "cell_type": "code",
   "execution_count": null,
   "metadata": {},
   "outputs": [],
   "source": [
    "intersect['Intersect_total_pop'] = (intersect['Intersect_area'] / intersect['Res_area']) * intersect['total_pop']\n",
    "intersect['Intersect_pov_pop'] = (intersect['Intersect_area'] / intersect['Res_area']) * intersect['pov_pop']\n",
    "intersect['Intersect_POC_pop'] = (intersect['Intersect_area'] / intersect['Res_area']) * intersect['POC_pop']"
   ]
  },
  {
   "cell_type": "code",
   "execution_count": null,
   "metadata": {},
   "outputs": [],
   "source": [
    "# Plot Intersection\n",
    "fig, ax = plt.subplots(figsize = (8, 10))\n",
    "intersect.plot(ax=ax,\n",
    "                    facecolor='white',\n",
    "                    edgecolor='grey')\n",
    "\n",
    "\n",
    "plt.axis('equal')\n",
    "plt.show()"
   ]
  },
  {
   "cell_type": "code",
   "execution_count": null,
   "metadata": {},
   "outputs": [],
   "source": [
    "with pd.option_context('display.max_columns', None):\n",
    "    display(intersect.sort_values(by=['GEOID']).head(5))"
   ]
  },
  {
   "cell_type": "code",
   "execution_count": null,
   "metadata": {},
   "outputs": [],
   "source": [
    "# Select the columns I will retain\n",
    "PWS_dissolve = intersect[['PWID','SYS_NAME','geometry','Intersect_area','Intersect_total_pop','Intersect_pov_pop','Intersect_POC_pop']]"
   ]
  },
  {
   "cell_type": "code",
   "execution_count": null,
   "metadata": {},
   "outputs": [],
   "source": [
    "PWS_dissolve['geometry'] = PWS_dissolve.buffer(0.01)"
   ]
  },
  {
   "cell_type": "code",
   "execution_count": null,
   "metadata": {},
   "outputs": [],
   "source": [
    "# Dissolve and summarize the quantitative columns by sum\n",
    "PWS_agg = PWS_dissolve.dissolve(by='PWID',aggfunc='sum')"
   ]
  },
  {
   "cell_type": "code",
   "execution_count": null,
   "metadata": {},
   "outputs": [],
   "source": [
    "# Reset the index so the PWID is a column\n",
    "PWS_agg = PWS_agg.reset_index()"
   ]
  },
  {
   "cell_type": "code",
   "execution_count": null,
   "metadata": {},
   "outputs": [],
   "source": [
    "PWS_agg.info()"
   ]
  },
  {
   "cell_type": "code",
   "execution_count": null,
   "metadata": {},
   "outputs": [],
   "source": [
    "with pd.option_context('display.max_columns', None):\n",
    "    display(PWS_agg.head(5))"
   ]
  },
  {
   "cell_type": "code",
   "execution_count": null,
   "metadata": {},
   "outputs": [],
   "source": [
    "# Add in columns for percentage people below the poverty line and percentage \n",
    "# people of color\n",
    "PWS_agg['perc_pov'] = PWS_agg['Intersect_pov_pop'] / PWS_agg['Intersect_total_pop']\n",
    "PWS_agg['perc_POC'] = PWS_agg['Intersect_POC_pop'] / PWS_agg['Intersect_total_pop']"
   ]
  },
  {
   "cell_type": "code",
   "execution_count": null,
   "metadata": {},
   "outputs": [],
   "source": [
    "# Get the NJ state boundary from the TIGER API to plot with the data (see Census\n",
    "# Jupyter Notebook for more exploration of this process)\n",
    "con = cen.base.Connection('ACSDT5Y2017')\n",
    "con.set_mapservice('tigerWMS_ACS2017')\n",
    "\n",
    "#Get state boundary data\n",
    "NJ_boundary = con.mapservice.query(layer=82, where='STATE=34',pkg='geopandas')"
   ]
  },
  {
   "cell_type": "code",
   "execution_count": null,
   "metadata": {},
   "outputs": [],
   "source": [
    "# The current way the crs is stored is a dictionary using latestwkid, which causes errors during export. I converted the crs \n",
    "# dictionary into one readable by geopandas, but it is not transforming the data in any way. \n",
    "NJ_boundary.crs = {'init': 'epsg:3857'}"
   ]
  },
  {
   "cell_type": "code",
   "execution_count": null,
   "metadata": {},
   "outputs": [],
   "source": [
    "#Transform to same projection as PWS data\n",
    "NJ_boundary=NJ_boundary.to_crs(PWS_agg.crs)"
   ]
  },
  {
   "cell_type": "code",
   "execution_count": null,
   "metadata": {},
   "outputs": [],
   "source": [
    "# Plotting percent below the poverty line by public water system\n",
    "# Plot the data\n",
    "fig, ax = plt.subplots(figsize = (8,12))\n",
    "NJ_boundary.plot(ax=ax,\n",
    "                edgecolor='black',\n",
    "                facecolor='white')\n",
    "PWS_agg.plot(ax = ax,\n",
    "             column='perc_pov', \n",
    "             scheme='QUANTILES',\n",
    "             k=5,cmap='OrRd',\n",
    "             edgecolor='black',\n",
    "             linewidth=0.4, \n",
    "             legend=True)\n",
    "\n",
    "# Geopandas source codes as the legend as a second axis\n",
    "legend = ax.get_legend()\n",
    "legend.get_frame().set_linewidth(0.0)\n",
    "#legend.set(title = 'Percentage Below the Poverty Line')\n",
    "\n",
    "# Add title to map\n",
    "ax.set(title = \"Percent Below the Poverty Line by Public Water System\\n\" +\n",
    "       \"New Jersey\\n\"+\n",
    "       \"New Jersey Department of Environmental Protection Data\")\n",
    "\n",
    "# Turn off the axis\n",
    "plt.axis('equal')\n",
    "#ax.set_axis_off()\n",
    "plt.show()"
   ]
  },
  {
   "cell_type": "code",
   "execution_count": null,
   "metadata": {},
   "outputs": [],
   "source": [
    "# Plotting percent people of color by public water system\n",
    "# Plot the data\n",
    "fig, ax = plt.subplots(figsize = (8,12))\n",
    "NJ_boundary.plot(ax=ax,\n",
    "                edgecolor='black',\n",
    "                facecolor='white')\n",
    "PWS_agg.plot(ax = ax,\n",
    "             column='perc_POC', \n",
    "             scheme='QUANTILES',\n",
    "             k=5,cmap='OrRd',\n",
    "             edgecolor='black',\n",
    "             linewidth=0.4, \n",
    "             legend=True)\n",
    "\n",
    "# Geopandas source codes as the legend as a second axis\n",
    "legend = ax.get_legend()\n",
    "legend.get_frame().set_linewidth(0.0)\n",
    "#legend.set(title = 'Percentage Below the Poverty Line')\n",
    "\n",
    "# Add title to map\n",
    "ax.set(title = \"Percent People of Color by Public Water System\\n\" +\n",
    "       \"New Jersey\\n\"+\n",
    "       \"New Jersey Department of Environmental Protection Data\")\n",
    "\n",
    "# Turn off the axis\n",
    "plt.axis('equal')\n",
    "#ax.set_axis_off()"
   ]
  },
  {
   "cell_type": "code",
   "execution_count": null,
   "metadata": {},
   "outputs": [],
   "source": [
    "#Export to shapefile\n",
    "PWS_agg.to_file(\"r'C:\\Users\\zstat\\Documents\\RecurseCenter\\EJ-analysis-map\\Data\\Created\\SpatialAnalysis\\Dasymetric.shp\", driver='ESRI Shapefile')"
   ]
  },
  {
   "cell_type": "code",
   "execution_count": null,
   "metadata": {},
   "outputs": [],
   "source": [
    "# Export to GeoJSON\n",
    "# First, need to upcast everything into the \"multi-polygon\" type\n",
    "\n",
    "from shapely import geometry\n",
    "upcast_dispatch = {geometry.Point: geometry.MultiPoint, \n",
    "                   geometry.LineString: geometry.MultiLineString, \n",
    "                   geometry.Polygon: geometry.MultiPolygon}\n",
    "\n",
    "def maybe_cast_to_multigeometry(geom):\n",
    "    caster = upcast_dispatch.get(type(geom), lambda x: x[0])\n",
    "    return caster([geom])\n",
    "\n",
    "PWS_agg_json = PWS_agg\n",
    "PWS_agg_json['geometry'] = PWS_agg_json.geometry.apply(maybe_cast_to_multigeometry)\n",
    "PWS_agg_json"
   ]
  },
  {
   "cell_type": "code",
   "execution_count": null,
   "metadata": {},
   "outputs": [],
   "source": [
    "# Export to GeoJSON\n",
    "PWS_agg.to_file(\"../data/Created/SpatialAnalysis/dasymetric.gojson\", driver='GeoJSON')"
   ]
  },
  {
   "cell_type": "code",
   "execution_count": null,
   "metadata": {},
   "outputs": [],
   "source": [
    "geopandas --version"
   ]
  },
  {
   "cell_type": "code",
   "execution_count": null,
   "metadata": {},
   "outputs": [],
   "source": []
  },
  {
   "cell_type": "code",
   "execution_count": null,
   "metadata": {},
   "outputs": [],
   "source": []
  }
 ],
 "metadata": {
  "kernelspec": {
   "display_name": "Python 3",
   "language": "python",
   "name": "python3"
  },
  "language_info": {
   "codemirror_mode": {
    "name": "ipython",
    "version": 3
   },
   "file_extension": ".py",
   "mimetype": "text/x-python",
   "name": "python",
   "nbconvert_exporter": "python",
   "pygments_lexer": "ipython3",
   "version": "3.6.6"
  }
 },
 "nbformat": 4,
 "nbformat_minor": 2
}
