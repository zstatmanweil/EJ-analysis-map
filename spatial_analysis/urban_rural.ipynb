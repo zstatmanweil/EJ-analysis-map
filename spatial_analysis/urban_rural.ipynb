{
 "cells": [
  {
   "cell_type": "markdown",
   "metadata": {},
   "source": [
    "## Determine if the water system is rural or urban\n",
    "\n",
    "This notebook is being used to determine if a public water system is urban (>=50% of the area falls within a Census-defined urban area) or rural (<50% of the area falls within a Census-defined urban area). The end result of this notebook is a DataFrame with the water system ID and whether it is rural or urban. This information will be used in the regression analysis."
   ]
  },
  {
   "cell_type": "code",
   "execution_count": 2,
   "metadata": {},
   "outputs": [],
   "source": [
    "import geopandas as gpd\n",
    "import pandas as pd\n",
    "import numpy as np"
   ]
  },
  {
   "cell_type": "code",
   "execution_count": 3,
   "metadata": {},
   "outputs": [
    {
     "data": {
      "text/html": [
       "<div>\n",
       "<style scoped>\n",
       "    .dataframe tbody tr th:only-of-type {\n",
       "        vertical-align: middle;\n",
       "    }\n",
       "\n",
       "    .dataframe tbody tr th {\n",
       "        vertical-align: top;\n",
       "    }\n",
       "\n",
       "    .dataframe thead th {\n",
       "        text-align: right;\n",
       "    }\n",
       "</style>\n",
       "<table border=\"1\" class=\"dataframe\">\n",
       "  <thead>\n",
       "    <tr style=\"text-align: right;\">\n",
       "      <th></th>\n",
       "      <th>UACE10</th>\n",
       "      <th>GEOID10</th>\n",
       "      <th>NAME10</th>\n",
       "      <th>NAMELSAD10</th>\n",
       "      <th>LSAD10</th>\n",
       "      <th>MTFCC10</th>\n",
       "      <th>UATYP10</th>\n",
       "      <th>FUNCSTAT10</th>\n",
       "      <th>ALAND10</th>\n",
       "      <th>AWATER10</th>\n",
       "      <th>INTPTLAT10</th>\n",
       "      <th>INTPTLON10</th>\n",
       "      <th>geometry</th>\n",
       "    </tr>\n",
       "  </thead>\n",
       "  <tbody>\n",
       "    <tr>\n",
       "      <th>0</th>\n",
       "      <td>24310</td>\n",
       "      <td>24310</td>\n",
       "      <td>Dixon, IL</td>\n",
       "      <td>Dixon, IL Urban Cluster</td>\n",
       "      <td>76</td>\n",
       "      <td>G3500</td>\n",
       "      <td>C</td>\n",
       "      <td>S</td>\n",
       "      <td>25524689</td>\n",
       "      <td>938058</td>\n",
       "      <td>+41.8529507</td>\n",
       "      <td>-089.4817439</td>\n",
       "      <td>POLYGON ((-89.498589 41.854668, -89.498538 41....</td>\n",
       "    </tr>\n",
       "    <tr>\n",
       "      <th>1</th>\n",
       "      <td>27847</td>\n",
       "      <td>27847</td>\n",
       "      <td>Escanaba, MI</td>\n",
       "      <td>Escanaba, MI Urban Cluster</td>\n",
       "      <td>76</td>\n",
       "      <td>G3500</td>\n",
       "      <td>C</td>\n",
       "      <td>S</td>\n",
       "      <td>46488558</td>\n",
       "      <td>283456</td>\n",
       "      <td>+45.7274565</td>\n",
       "      <td>-087.0824457</td>\n",
       "      <td>POLYGON ((-87.120975 45.79325499999999, -87.12...</td>\n",
       "    </tr>\n",
       "    <tr>\n",
       "      <th>2</th>\n",
       "      <td>18100</td>\n",
       "      <td>18100</td>\n",
       "      <td>Clintonville, WI</td>\n",
       "      <td>Clintonville, WI Urban Cluster</td>\n",
       "      <td>76</td>\n",
       "      <td>G3500</td>\n",
       "      <td>C</td>\n",
       "      <td>S</td>\n",
       "      <td>5854721</td>\n",
       "      <td>502397</td>\n",
       "      <td>+44.6232203</td>\n",
       "      <td>-088.7611283</td>\n",
       "      <td>POLYGON ((-88.78650499999999 44.629957, -88.78...</td>\n",
       "    </tr>\n",
       "    <tr>\n",
       "      <th>3</th>\n",
       "      <td>06166</td>\n",
       "      <td>06166</td>\n",
       "      <td>Bedford, IN</td>\n",
       "      <td>Bedford, IN Urban Cluster</td>\n",
       "      <td>76</td>\n",
       "      <td>G3500</td>\n",
       "      <td>C</td>\n",
       "      <td>S</td>\n",
       "      <td>30403132</td>\n",
       "      <td>2314</td>\n",
       "      <td>+38.8566530</td>\n",
       "      <td>-086.5012383</td>\n",
       "      <td>(POLYGON ((-86.518316 38.79547, -86.518253 38....</td>\n",
       "    </tr>\n",
       "    <tr>\n",
       "      <th>4</th>\n",
       "      <td>75270</td>\n",
       "      <td>75270</td>\n",
       "      <td>Riverdale, CA</td>\n",
       "      <td>Riverdale, CA Urban Cluster</td>\n",
       "      <td>76</td>\n",
       "      <td>G3500</td>\n",
       "      <td>C</td>\n",
       "      <td>S</td>\n",
       "      <td>2306823</td>\n",
       "      <td>0</td>\n",
       "      <td>+36.4310710</td>\n",
       "      <td>-119.8620544</td>\n",
       "      <td>POLYGON ((-119.869132 36.430832, -119.870931 3...</td>\n",
       "    </tr>\n",
       "  </tbody>\n",
       "</table>\n",
       "</div>"
      ],
      "text/plain": [
       "  UACE10 GEOID10            NAME10                      NAMELSAD10 LSAD10  \\\n",
       "0  24310   24310         Dixon, IL         Dixon, IL Urban Cluster     76   \n",
       "1  27847   27847      Escanaba, MI      Escanaba, MI Urban Cluster     76   \n",
       "2  18100   18100  Clintonville, WI  Clintonville, WI Urban Cluster     76   \n",
       "3  06166   06166       Bedford, IN       Bedford, IN Urban Cluster     76   \n",
       "4  75270   75270     Riverdale, CA     Riverdale, CA Urban Cluster     76   \n",
       "\n",
       "  MTFCC10 UATYP10 FUNCSTAT10   ALAND10  AWATER10   INTPTLAT10    INTPTLON10  \\\n",
       "0   G3500       C          S  25524689    938058  +41.8529507  -089.4817439   \n",
       "1   G3500       C          S  46488558    283456  +45.7274565  -087.0824457   \n",
       "2   G3500       C          S   5854721    502397  +44.6232203  -088.7611283   \n",
       "3   G3500       C          S  30403132      2314  +38.8566530  -086.5012383   \n",
       "4   G3500       C          S   2306823         0  +36.4310710  -119.8620544   \n",
       "\n",
       "                                            geometry  \n",
       "0  POLYGON ((-89.498589 41.854668, -89.498538 41....  \n",
       "1  POLYGON ((-87.120975 45.79325499999999, -87.12...  \n",
       "2  POLYGON ((-88.78650499999999 44.629957, -88.78...  \n",
       "3  (POLYGON ((-86.518316 38.79547, -86.518253 38....  \n",
       "4  POLYGON ((-119.869132 36.430832, -119.870931 3...  "
      ]
     },
     "execution_count": 3,
     "metadata": {},
     "output_type": "execute_result"
    }
   ],
   "source": [
    "# Open urban areas shapefile\n",
    "urban_area = gpd.read_file('../data/TIGER/tl_2016_us_uac10.shp')\n",
    "\n",
    "# Examine the data\n",
    "urban_area.head()"
   ]
  },
  {
   "cell_type": "code",
   "execution_count": 7,
   "metadata": {},
   "outputs": [],
   "source": [
    "# Import NJ public water system data\n",
    "pws_geodata = gpd.read_file('../data/NJDEP/NJPWS.shp')"
   ]
  },
  {
   "cell_type": "code",
   "execution_count": 9,
   "metadata": {},
   "outputs": [
    {
     "name": "stdout",
     "output_type": "stream",
     "text": [
      "{'init': 'epsg:3424'} {'init': 'epsg:3424'}\n"
     ]
    }
   ],
   "source": [
    "# Confirm they have the same coordinate system\n",
    "\n",
    "urban_area = urban_area.to_crs({'init': 'epsg:3424'})\n",
    "print(urban_area.crs, pws_geodata.crs)"
   ]
  },
  {
   "cell_type": "code",
   "execution_count": 10,
   "metadata": {},
   "outputs": [],
   "source": [
    "# Produce an intersection of the two datasets\n",
    "urban_pws_intersection = gpd.overlay(pws_geodata, urban_area, how=\"intersection\")"
   ]
  },
  {
   "cell_type": "code",
   "execution_count": 11,
   "metadata": {},
   "outputs": [
    {
     "data": {
      "text/html": [
       "<div>\n",
       "<style scoped>\n",
       "    .dataframe tbody tr th:only-of-type {\n",
       "        vertical-align: middle;\n",
       "    }\n",
       "\n",
       "    .dataframe tbody tr th {\n",
       "        vertical-align: top;\n",
       "    }\n",
       "\n",
       "    .dataframe thead th {\n",
       "        text-align: right;\n",
       "    }\n",
       "</style>\n",
       "<table border=\"1\" class=\"dataframe\">\n",
       "  <thead>\n",
       "    <tr style=\"text-align: right;\">\n",
       "      <th></th>\n",
       "      <th>PWID</th>\n",
       "      <th>urban_area</th>\n",
       "      <th>geometry</th>\n",
       "    </tr>\n",
       "  </thead>\n",
       "  <tbody>\n",
       "    <tr>\n",
       "      <th>0</th>\n",
       "      <td>NJ0314001</td>\n",
       "      <td>9.054935e+06</td>\n",
       "      <td>POLYGON ((429152.770478677 476819.609905608, 4...</td>\n",
       "    </tr>\n",
       "    <tr>\n",
       "      <th>6</th>\n",
       "      <td>NJ0307002</td>\n",
       "      <td>5.953241e+06</td>\n",
       "      <td>POLYGON ((441972.9741689265 483150.4371389374,...</td>\n",
       "    </tr>\n",
       "    <tr>\n",
       "      <th>102</th>\n",
       "      <td>NJ0303001</td>\n",
       "      <td>2.129090e+08</td>\n",
       "      <td>(POLYGON ((436626.6899140105 491361.7796401083...</td>\n",
       "    </tr>\n",
       "    <tr>\n",
       "      <th>120</th>\n",
       "      <td>NJ0318002</td>\n",
       "      <td>1.748216e+07</td>\n",
       "      <td>POLYGON ((422943.0493023433 451971.7819766924,...</td>\n",
       "    </tr>\n",
       "    <tr>\n",
       "      <th>264</th>\n",
       "      <td>NJ0323001</td>\n",
       "      <td>2.111025e+07</td>\n",
       "      <td>(POLYGON ((445841.6839511767 455734.1146751046...</td>\n",
       "    </tr>\n",
       "  </tbody>\n",
       "</table>\n",
       "</div>"
      ],
      "text/plain": [
       "          PWID    urban_area  \\\n",
       "0    NJ0314001  9.054935e+06   \n",
       "6    NJ0307002  5.953241e+06   \n",
       "102  NJ0303001  2.129090e+08   \n",
       "120  NJ0318002  1.748216e+07   \n",
       "264  NJ0323001  2.111025e+07   \n",
       "\n",
       "                                              geometry  \n",
       "0    POLYGON ((429152.770478677 476819.609905608, 4...  \n",
       "6    POLYGON ((441972.9741689265 483150.4371389374,...  \n",
       "102  (POLYGON ((436626.6899140105 491361.7796401083...  \n",
       "120  POLYGON ((422943.0493023433 451971.7819766924,...  \n",
       "264  (POLYGON ((445841.6839511767 455734.1146751046...  "
      ]
     },
     "execution_count": 11,
     "metadata": {},
     "output_type": "execute_result"
    }
   ],
   "source": [
    "urban_pws_intersection['urban_area'] = urban_pws_intersection.geometry.area\n",
    "\n",
    "urban_pws_int = urban_pws_intersection[['PWID','urban_area','geometry']]\n",
    "urban_pws_int.head()"
   ]
  },
  {
   "cell_type": "code",
   "execution_count": 12,
   "metadata": {},
   "outputs": [
    {
     "name": "stdout",
     "output_type": "stream",
     "text": [
      "<class 'geopandas.geodataframe.GeoDataFrame'>\n",
      "RangeIndex: 487 entries, 0 to 486\n",
      "Data columns (total 3 columns):\n",
      "PWID          487 non-null object\n",
      "geometry      487 non-null object\n",
      "urban_area    487 non-null float64\n",
      "dtypes: float64(1), object(2)\n",
      "memory usage: 11.5+ KB\n"
     ]
    }
   ],
   "source": [
    "# Aggregate urban area by PWID\n",
    "urban_pws_int = urban_pws_int.dissolve(by='PWID',aggfunc='sum')\n",
    "urban_pws_int = urban_pws_int.reset_index()\n",
    "urban_pws_int.info()"
   ]
  },
  {
   "cell_type": "code",
   "execution_count": 13,
   "metadata": {},
   "outputs": [
    {
     "name": "stdout",
     "output_type": "stream",
     "text": [
      "<class 'geopandas.geodataframe.GeoDataFrame'>\n",
      "Int64Index: 574 entries, 0 to 573\n",
      "Data columns (total 4 columns):\n",
      "PWID          574 non-null object\n",
      "geometry_x    574 non-null object\n",
      "geometry_y    487 non-null object\n",
      "urban_area    487 non-null float64\n",
      "dtypes: float64(1), object(3)\n",
      "memory usage: 22.4+ KB\n"
     ]
    }
   ],
   "source": [
    "# Join to pws layer\n",
    "pws_simple = pws_geodata[['PWID','geometry']]\n",
    "pws_urban_rural = pd.merge(pws_simple, urban_pws_int, how='outer', \n",
    "                           on=['PWID'], validate=\"one_to_one\")\n",
    "\n",
    "# Explore the number of rows\n",
    "pws_urban_rural.info()"
   ]
  },
  {
   "cell_type": "code",
   "execution_count": 14,
   "metadata": {},
   "outputs": [
    {
     "name": "stdout",
     "output_type": "stream",
     "text": [
      "<class 'geopandas.geodataframe.GeoDataFrame'>\n",
      "Int64Index: 574 entries, 0 to 573\n",
      "Data columns (total 4 columns):\n",
      "PWID          574 non-null object\n",
      "geometry_x    574 non-null object\n",
      "geometry_y    487 non-null object\n",
      "urban_area    574 non-null float64\n",
      "dtypes: float64(1), object(3)\n",
      "memory usage: 22.4+ KB\n"
     ]
    }
   ],
   "source": [
    "# Replace null values in urban_area column with zero\n",
    "pws_urban_rural['urban_area'].fillna(0, inplace=True)\n",
    "\n",
    "# Confirm the nan columns were replaced\n",
    "pws_urban_rural.info()"
   ]
  },
  {
   "cell_type": "code",
   "execution_count": 15,
   "metadata": {},
   "outputs": [
    {
     "name": "stdout",
     "output_type": "stream",
     "text": [
      "<class 'geopandas.geodataframe.GeoDataFrame'>\n",
      "Int64Index: 574 entries, 0 to 573\n",
      "Data columns (total 3 columns):\n",
      "PWID          574 non-null object\n",
      "geometry      574 non-null object\n",
      "urban_area    574 non-null float64\n",
      "dtypes: float64(1), object(2)\n",
      "memory usage: 17.9+ KB\n"
     ]
    }
   ],
   "source": [
    "# calculate PWS area\n",
    "pws_urban_rural = pws_urban_rural.drop(columns='geometry_y')\n",
    "pws_urban_rural = pws_urban_rural.rename(columns={'geometry_x': 'geometry'})\n",
    "\n",
    "pws_urban_rural.info()"
   ]
  },
  {
   "cell_type": "code",
   "execution_count": 16,
   "metadata": {},
   "outputs": [],
   "source": [
    "# Calculate PWS area\n",
    "pws_urban_rural['pws_area'] = pws_urban_rural.geometry.area"
   ]
  },
  {
   "cell_type": "code",
   "execution_count": 17,
   "metadata": {},
   "outputs": [],
   "source": [
    "# Calculate percentage urban\n",
    "pws_urban_rural['perc_urban'] = pws_urban_rural['urban_area'] / pws_urban_rural['pws_area'] "
   ]
  },
  {
   "cell_type": "code",
   "execution_count": 18,
   "metadata": {},
   "outputs": [],
   "source": [
    "# Add a variable to identify the PWS as urban or rural\n",
    "pws_urban_rural['urban_rural'] = np.where(pws_urban_rural['perc_urban']> 0.50, 'urban', 'rural')"
   ]
  },
  {
   "cell_type": "code",
   "execution_count": 19,
   "metadata": {},
   "outputs": [
    {
     "data": {
      "text/html": [
       "<div>\n",
       "<style scoped>\n",
       "    .dataframe tbody tr th:only-of-type {\n",
       "        vertical-align: middle;\n",
       "    }\n",
       "\n",
       "    .dataframe tbody tr th {\n",
       "        vertical-align: top;\n",
       "    }\n",
       "\n",
       "    .dataframe thead th {\n",
       "        text-align: right;\n",
       "    }\n",
       "</style>\n",
       "<table border=\"1\" class=\"dataframe\">\n",
       "  <thead>\n",
       "    <tr style=\"text-align: right;\">\n",
       "      <th></th>\n",
       "      <th>PWID</th>\n",
       "      <th>urban_rural</th>\n",
       "    </tr>\n",
       "  </thead>\n",
       "  <tbody>\n",
       "    <tr>\n",
       "      <th>0</th>\n",
       "      <td>NJ0314001</td>\n",
       "      <td>urban</td>\n",
       "    </tr>\n",
       "    <tr>\n",
       "      <th>1</th>\n",
       "      <td>NJ0320002</td>\n",
       "      <td>urban</td>\n",
       "    </tr>\n",
       "    <tr>\n",
       "      <th>2</th>\n",
       "      <td>NJ0301001</td>\n",
       "      <td>rural</td>\n",
       "    </tr>\n",
       "    <tr>\n",
       "      <th>3</th>\n",
       "      <td>NJ0307002</td>\n",
       "      <td>urban</td>\n",
       "    </tr>\n",
       "    <tr>\n",
       "      <th>4</th>\n",
       "      <td>NJ0325001</td>\n",
       "      <td>rural</td>\n",
       "    </tr>\n",
       "  </tbody>\n",
       "</table>\n",
       "</div>"
      ],
      "text/plain": [
       "        PWID urban_rural\n",
       "0  NJ0314001       urban\n",
       "1  NJ0320002       urban\n",
       "2  NJ0301001       rural\n",
       "3  NJ0307002       urban\n",
       "4  NJ0325001       rural"
      ]
     },
     "execution_count": 19,
     "metadata": {},
     "output_type": "execute_result"
    }
   ],
   "source": [
    "# Convert to a dataframe and remove unnecessary columns\n",
    "pws_urban_rural = pws_urban_rural.drop(columns=['geometry','pws_area','urban_area', 'perc_urban'])\n",
    "pws_urban_rural.head()"
   ]
  },
  {
   "cell_type": "code",
   "execution_count": 20,
   "metadata": {},
   "outputs": [],
   "source": [
    "# Export to csv\n",
    "pws_urban_rural.to_csv('../data/Created/SpatialAnalysis/pws_urban_rural.csv', index = False)"
   ]
  }
 ],
 "metadata": {
  "kernelspec": {
   "display_name": "Python 3",
   "language": "python",
   "name": "python3"
  },
  "language_info": {
   "codemirror_mode": {
    "name": "ipython",
    "version": 3
   },
   "file_extension": ".py",
   "mimetype": "text/x-python",
   "name": "python",
   "nbconvert_exporter": "python",
   "pygments_lexer": "ipython3",
   "version": "3.6.6"
  }
 },
 "nbformat": 4,
 "nbformat_minor": 2
}
